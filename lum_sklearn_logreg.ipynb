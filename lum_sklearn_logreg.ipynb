{
 "cells": [
  {
   "cell_type": "code",
   "execution_count": 1,
   "metadata": {
    "collapsed": true
   },
   "outputs": [],
   "source": [
    "import numpy as np\n",
    "import pandas as pd\n",
    "import matplotlib.pyplot as plt\n",
    "%matplotlib inline\n",
    "from sklearn import linear_model\n",
    "from sklearn.linear_model import LogisticRegression\n",
    "from sklearn.model_selection import train_test_split"
   ]
  },
  {
   "cell_type": "code",
   "execution_count": 8,
   "metadata": {
    "collapsed": false
   },
   "outputs": [
    {
     "data": {
      "text/html": [
       "<div>\n",
       "<table border=\"1\" class=\"dataframe\">\n",
       "  <thead>\n",
       "    <tr style=\"text-align: right;\">\n",
       "      <th></th>\n",
       "      <th>LX</th>\n",
       "      <th>LOIII</th>\n",
       "      <th>class</th>\n",
       "    </tr>\n",
       "  </thead>\n",
       "  <tbody>\n",
       "    <tr>\n",
       "      <th>0</th>\n",
       "      <td>43.630417</td>\n",
       "      <td>40.60</td>\n",
       "      <td>leg</td>\n",
       "    </tr>\n",
       "    <tr>\n",
       "      <th>1</th>\n",
       "      <td>43.640723</td>\n",
       "      <td>40.14</td>\n",
       "      <td>leg</td>\n",
       "    </tr>\n",
       "    <tr>\n",
       "      <th>2</th>\n",
       "      <td>43.627163</td>\n",
       "      <td>40.14</td>\n",
       "      <td>leg</td>\n",
       "    </tr>\n",
       "    <tr>\n",
       "      <th>3</th>\n",
       "      <td>43.615961</td>\n",
       "      <td>40.94</td>\n",
       "      <td>leg</td>\n",
       "    </tr>\n",
       "    <tr>\n",
       "      <th>4</th>\n",
       "      <td>43.626351</td>\n",
       "      <td>40.70</td>\n",
       "      <td>leg</td>\n",
       "    </tr>\n",
       "    <tr>\n",
       "      <th>5</th>\n",
       "      <td>43.614329</td>\n",
       "      <td>39.21</td>\n",
       "      <td>leg</td>\n",
       "    </tr>\n",
       "    <tr>\n",
       "      <th>6</th>\n",
       "      <td>43.641602</td>\n",
       "      <td>42.18</td>\n",
       "      <td>heg</td>\n",
       "    </tr>\n",
       "    <tr>\n",
       "      <th>7</th>\n",
       "      <td>43.630144</td>\n",
       "      <td>41.00</td>\n",
       "      <td>heg</td>\n",
       "    </tr>\n",
       "    <tr>\n",
       "      <th>8</th>\n",
       "      <td>43.645965</td>\n",
       "      <td>41.45</td>\n",
       "      <td>heg</td>\n",
       "    </tr>\n",
       "    <tr>\n",
       "      <th>9</th>\n",
       "      <td>43.637292</td>\n",
       "      <td>40.55</td>\n",
       "      <td>heg</td>\n",
       "    </tr>\n",
       "    <tr>\n",
       "      <th>10</th>\n",
       "      <td>43.612784</td>\n",
       "      <td>41.03</td>\n",
       "      <td>heg</td>\n",
       "    </tr>\n",
       "    <tr>\n",
       "      <th>11</th>\n",
       "      <td>43.636039</td>\n",
       "      <td>40.91</td>\n",
       "      <td>heg</td>\n",
       "    </tr>\n",
       "    <tr>\n",
       "      <th>12</th>\n",
       "      <td>43.641399</td>\n",
       "      <td>41.75</td>\n",
       "      <td>heg</td>\n",
       "    </tr>\n",
       "    <tr>\n",
       "      <th>13</th>\n",
       "      <td>43.644576</td>\n",
       "      <td>41.34</td>\n",
       "      <td>heg</td>\n",
       "    </tr>\n",
       "  </tbody>\n",
       "</table>\n",
       "</div>"
      ],
      "text/plain": [
       "           LX  LOIII class\n",
       "0   43.630417  40.60   leg\n",
       "1   43.640723  40.14   leg\n",
       "2   43.627163  40.14   leg\n",
       "3   43.615961  40.94   leg\n",
       "4   43.626351  40.70   leg\n",
       "5   43.614329  39.21   leg\n",
       "6   43.641602  42.18   heg\n",
       "7   43.630144  41.00   heg\n",
       "8   43.645965  41.45   heg\n",
       "9   43.637292  40.55   heg\n",
       "10  43.612784  41.03   heg\n",
       "11  43.636039  40.91   heg\n",
       "12  43.641399  41.75   heg\n",
       "13  43.644576  41.34   heg"
      ]
     },
     "execution_count": 8,
     "metadata": {},
     "output_type": "execute_result"
    }
   ],
   "source": [
    "lum = pd.read_csv('lumclass.csv', sep='\\t', index_col=0)\n",
    "lum['LX'] = [np.log10(n*(10**42)) for n in lum['LX']]\n",
    "# lum['class'] = ['leg', 'leg', 'leg','leg', 'leg', 'leg', 'heg', 'heg','heg','heg','heg','heg','heg','heg']\n",
    "# lum.to_csv('lumclass.csv', sep='\\t', columns=['LX', 'LOIII', 'class'])\n",
    "\n",
    "lum"
   ]
  },
  {
   "cell_type": "code",
   "execution_count": 30,
   "metadata": {
    "collapsed": false
   },
   "outputs": [
    {
     "data": {
      "text/plain": [
       "array([1, 1, 1, 1, 1, 1, 0, 0, 0, 0, 0, 0, 0, 0])"
      ]
     },
     "execution_count": 30,
     "metadata": {},
     "output_type": "execute_result"
    }
   ],
   "source": [
    "from sklearn.preprocessing import LabelEncoder\n",
    "\n",
    "X = lum.drop('class', axis=1).values\n",
    "y = lum['class'].values\n",
    "\n",
    "labelencoder_y = LabelEncoder()\n",
    "y = labelencoder_y.fit_transform(y)\n",
    "y"
   ]
  },
  {
   "cell_type": "code",
   "execution_count": 32,
   "metadata": {
    "collapsed": false
   },
   "outputs": [
    {
     "data": {
      "image/png": "[encoded data removed]",
      "text/plain": [
       "<matplotlib.figure.Figure at 0x11feb64e0>"
      ]
     },
     "metadata": {},
     "output_type": "display_data"
    }
   ],
   "source": [
    "plt.scatter(X[:,0], X[:, 1], c=y, s=50,\n",
    "           cmap=\"RdBu\")\n",
    "plt.show()"
   ]
  },
  {
   "cell_type": "code",
   "execution_count": 33,
   "metadata": {
    "collapsed": false
   },
   "outputs": [],
   "source": [
    "# Splitting the dataset into the Training set and Test set\n",
    "X_train, X_test, y_train, y_test = train_test_split(X, y, test_size=0.2, random_state=0)"
   ]
  },
  {
   "cell_type": "code",
   "execution_count": 34,
   "metadata": {
    "collapsed": false
   },
   "outputs": [
    {
     "data": {
      "text/plain": [
       "0.66666666666666663"
      ]
     },
     "execution_count": 34,
     "metadata": {},
     "output_type": "execute_result"
    }
   ],
   "source": [
    "# Fitting the Regression Model to the dataset\n",
    "logreg = LogisticRegression()\n",
    "\n",
    "logreg = logreg.fit(X_train, y_train)\n",
    "y_pred = logreg.predict(X_test)\n",
    "logreg.score(X_test, y_test)"
   ]
  },
  {
   "cell_type": "code",
   "execution_count": 50,
   "metadata": {
    "collapsed": false
   },
   "outputs": [
    {
     "data": {
      "text/plain": [
       "<matplotlib.collections.PathCollection at 0x11faf79e8>"
      ]
     },
     "execution_count": 50,
     "metadata": {},
     "output_type": "execute_result"
    },
    {
     "data": {
      "image/png": "[encoded data removed]",
      "text/plain": [
       "<matplotlib.figure.Figure at 0x11ffa1e80>"
      ]
     },
     "metadata": {},
     "output_type": "display_data"
    }
   ],
   "source": [
    "import seaborn as sns\n",
    "sns.set(style=\"white\")\n",
    "xx, yy = np.mgrid[39:44:.01, 39:44:.01]\n",
    "grid = np.c_[xx.ravel(), yy.ravel()]\n",
    "probs = logreg.predict_proba(grid)[:, 1].reshape(xx.shape)\n",
    "\n",
    "f, ax = plt.subplots(figsize=(8, 6))\n",
    "# ax.contour(xx, yy, probs, levels=[.5], cmap=\"Greys\", vmin=0, vmax=.6)\n",
    "\n",
    "ax.scatter(X[:,0], X[:, 1], c=y, s=50,\n",
    "           cmap=\"RdBu\", vmin=-.2, vmax=1.2,\n",
    "           edgecolor=\"white\", linewidth=1)\n",
    "\n",
    "# ax.set(aspect=\"equal\",\n",
    "# #        xlim=(-5, 5), ylim=(-5, 5),\n",
    "#        xlabel=\"$L_x$\", ylabel=\"$L_OIII$\")\n"
   ]
  },
  {
   "cell_type": "code",
   "execution_count": 52,
   "metadata": {
    "collapsed": false
   },
   "outputs": [
    {
     "data": {
      "text/plain": [
       "<matplotlib.legend.Legend at 0x1238d35c0>"
      ]
     },
     "execution_count": 52,
     "metadata": {},
     "output_type": "execute_result"
    },
    {
     "data": {
      "image/png": "[encoded data removed]",
      "text/plain": [
       "<matplotlib.figure.Figure at 0x12373e630>"
      ]
     },
     "metadata": {},
     "output_type": "display_data"
    }
   ],
   "source": [
    "# evenly sampled points\n",
    "x_min, x_max = X[:, 0].min() - .5, X[:, 0].max() + .5\n",
    "y_min, y_max = X[:, 1].min() - .5, X[:, 1].max() + .5\n",
    "xx, yy = np.meshgrid(np.linspace(x_min, x_max, 50),\n",
    "                     np.linspace(y_min, y_max, 50))\n",
    "plt.xlim(xx.min(), xx.max())\n",
    "plt.ylim(yy.min(), yy.max())\n",
    "\n",
    "#plot background colors\n",
    "ax = plt.gca()\n",
    "Z = logreg.predict_proba(np.c_[xx.ravel(), yy.ravel()])[:, 1]\n",
    "Z = Z.reshape(xx.shape)\n",
    "cs = ax.contourf(xx, yy, Z, cmap='RdBu', alpha=.5)\n",
    "cs2 = ax.contour(xx, yy, Z, cmap='RdBu', alpha=.5)\n",
    "plt.clabel(cs2, fmt = '%2.1f', colors = 'k', fontsize=14)\n",
    "\n",
    "# Plot the points\n",
    "ax.plot(X_train[y_train == 0, 0], X_train[y_train == 0, 1], 'ro', label='Class 1')\n",
    "ax.plot(X_train[y_train == 1, 0], X_train[y_train == 1, 1], 'bo', label='Class 2')\n",
    "\n",
    "# make legend\n",
    "plt.legend(loc='upper left', scatterpoints=1, numpoints=1)"
   ]
  },
  {
   "cell_type": "code",
   "execution_count": 51,
   "metadata": {
    "collapsed": false
   },
   "outputs": [
    {
     "name": "stdout",
     "output_type": "stream",
     "text": [
      "[ 0.  0.]\n"
     ]
    }
   ],
   "source": [
    "# 95% confidence intervals\n",
    "print(np.percentile(logreg.predict(X_test), [2.5, 97.5]))\n"
   ]
  }
 ],
 "metadata": {
  "anaconda-cloud": {},
  "kernelspec": {
   "display_name": "Python [py3k]",
   "language": "python",
   "name": "Python [py3k]"
  },
  "language_info": {
   "codemirror_mode": {
    "name": "ipython",
    "version": 3
   },
   "file_extension": ".py",
   "mimetype": "text/x-python",
   "name": "python",
   "nbconvert_exporter": "python",
   "pygments_lexer": "ipython3",
   "version": "3.6.0"
  }
 },
 "nbformat": 4,
 "nbformat_minor": 0
}
